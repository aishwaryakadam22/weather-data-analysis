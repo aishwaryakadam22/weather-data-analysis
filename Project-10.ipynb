{
  "nbformat": 4,
  "nbformat_minor": 0,
  "metadata": {
    "colab": {
      "provenance": []
    },
    "kernelspec": {
      "name": "python3",
      "display_name": "Python 3"
    },
    "language_info": {
      "name": "python"
    }
  },
  "cells": [
    {
      "cell_type": "code",
      "source": [
        " # connect with google drive\n",
        "from google.colab import drive\n",
        "drive.mount('/content/drive')"
      ],
      "metadata": {
        "colab": {
          "base_uri": "https://localhost:8080/"
        },
        "id": "6oOELa6vDnRi",
        "outputId": "32375870-d652-4b03-ce0b-fdc2d782d530"
      },
      "execution_count": null,
      "outputs": [
        {
          "output_type": "stream",
          "name": "stdout",
          "text": [
            "Mounted at /content/drive\n"
          ]
        }
      ]
    },
    {
      "cell_type": "code",
      "source": [
        " # import library\n",
        "import pandas as pd"
      ],
      "metadata": {
        "id": "NqmT2ab_EHZM"
      },
      "execution_count": null,
      "outputs": []
    },
    {
      "cell_type": "code",
      "source": [
        " # copy path\n",
        "path = \"/content/drive/MyDrive/Weather Data.csv\""
      ],
      "metadata": {
        "id": "-UbVswZ5ELtJ"
      },
      "execution_count": null,
      "outputs": []
    },
    {
      "cell_type": "code",
      "source": [
        "# read file\n",
        "df = pd.read_csv(path)"
      ],
      "metadata": {
        "id": "YRz_Ont4EZYr"
      },
      "execution_count": null,
      "outputs": []
    },
    {
      "cell_type": "code",
      "source": [
        "#read data set\n",
        "df"
      ],
      "metadata": {
        "id": "sS9Q-HsNFIUz"
      },
      "execution_count": null,
      "outputs": []
    },
    {
      "cell_type": "markdown",
      "source": [
        "**Analyzing the data**\n",
        ".head()\n",
        "\n",
        "Its show the first N rows in the data( by default N=5)"
      ],
      "metadata": {
        "id": "NXrBl45XGbD7"
      }
    },
    {
      "cell_type": "code",
      "source": [
        "df.head()"
      ],
      "metadata": {
        "id": "DLkw6IYPGoK9"
      },
      "execution_count": null,
      "outputs": []
    },
    {
      "cell_type": "markdown",
      "source": [
        ".shape\n",
        "\n",
        "its shows totak number of rows and columns of the dataframe."
      ],
      "metadata": {
        "id": "PMJzQ-eDGta1"
      }
    },
    {
      "cell_type": "code",
      "source": [
        "df.shape"
      ],
      "metadata": {
        "id": "uGFl537cGuaR"
      },
      "execution_count": null,
      "outputs": []
    },
    {
      "cell_type": "markdown",
      "source": [
        ".index\n",
        "\n",
        "This attribute provide the index of the dataframe"
      ],
      "metadata": {
        "id": "95FUbGHdG0pO"
      }
    },
    {
      "cell_type": "code",
      "source": [
        "df.index\n"
      ],
      "metadata": {
        "id": "xY6IIEOSG1dw"
      },
      "execution_count": null,
      "outputs": []
    },
    {
      "cell_type": "markdown",
      "source": [
        "columns\n",
        "\n",
        "Its shows the name of each columns."
      ],
      "metadata": {
        "id": "6tBK9ZpSHyYy"
      }
    },
    {
      "cell_type": "code",
      "source": [
        "df.columns"
      ],
      "metadata": {
        "id": "oHeKbumCHzFw"
      },
      "execution_count": null,
      "outputs": []
    },
    {
      "cell_type": "markdown",
      "source": [
        ".dtypes\n",
        "\n",
        "Its shows datatypes of each column."
      ],
      "metadata": {
        "id": "5T5XG9HLH_YL"
      }
    },
    {
      "cell_type": "markdown",
      "source": [],
      "metadata": {
        "id": "fwtytzj0v0f0"
      }
    },
    {
      "cell_type": "code",
      "source": [
        "df.dtypes"
      ],
      "metadata": {
        "id": "AyDId4K6IAHx"
      },
      "execution_count": null,
      "outputs": []
    },
    {
      "cell_type": "markdown",
      "source": [
        ".nunique()\n",
        "\n",
        "Its shows the total number of unique values in each column.It can be applied on a single column as on whole dataframe."
      ],
      "metadata": {
        "id": "FLtEs_BqIeU3"
      }
    },
    {
      "cell_type": "code",
      "source": [
        "df.nunique()"
      ],
      "metadata": {
        "id": "xpwcaW6cIfvd"
      },
      "execution_count": null,
      "outputs": []
    },
    {
      "cell_type": "markdown",
      "source": [
        ".count\n",
        "\n",
        "It show the total no. of non-null values in each column.It can be applied on a single column as well as whole dataframe."
      ],
      "metadata": {
        "id": "TlSc7nUxIod-"
      }
    },
    {
      "cell_type": "code",
      "source": [
        "df.count()"
      ],
      "metadata": {
        "id": "VE14Cw8cIveC"
      },
      "execution_count": null,
      "outputs": []
    },
    {
      "cell_type": "markdown",
      "source": [
        ".info()\n",
        "\n",
        "It provides basic information about the datframe."
      ],
      "metadata": {
        "id": "_P7gOTNLqbBB"
      }
    },
    {
      "cell_type": "code",
      "source": [
        "df.info()\n"
      ],
      "metadata": {
        "id": "LbKLoQSFqgLq"
      },
      "execution_count": null,
      "outputs": []
    },
    {
      "cell_type": "markdown",
      "source": [
        "Q.1 Find all the unique 'Wind speed' values in the data.¶"
      ],
      "metadata": {
        "id": "hNO-KcNGqoKD"
      }
    },
    {
      "cell_type": "code",
      "source": [
        "df.head()"
      ],
      "metadata": {
        "id": "T3qcrsCeqpEe"
      },
      "execution_count": null,
      "outputs": []
    },
    {
      "cell_type": "code",
      "source": [
        "df.nunique()"
      ],
      "metadata": {
        "id": "FUYZnIZBq4wV"
      },
      "execution_count": null,
      "outputs": []
    },
    {
      "cell_type": "code",
      "source": [
        "df[\"Wind Speed_km/h\"].nunique()"
      ],
      "metadata": {
        "id": "V1zQYEUlq9XN"
      },
      "execution_count": null,
      "outputs": []
    },
    {
      "cell_type": "code",
      "source": [
        "df[\"Wind Speed_km/h\"].unique()"
      ],
      "metadata": {
        "id": "ADLkRpQbrBpv"
      },
      "execution_count": null,
      "outputs": []
    },
    {
      "cell_type": "markdown",
      "source": [
        "THis is the unique wind speeds (km/h) in dataset."
      ],
      "metadata": {
        "id": "NfD_6THzrD0l"
      }
    },
    {
      "cell_type": "markdown",
      "source": [
        "Q.2 Find the number of time when the 'Weather is exactly clear'."
      ],
      "metadata": {
        "id": "ccXPq4OcrIVz"
      }
    },
    {
      "cell_type": "code",
      "source": [
        "df.head(2)"
      ],
      "metadata": {
        "id": "ZFEyXw5UrLfV"
      },
      "execution_count": null,
      "outputs": []
    },
    {
      "cell_type": "code",
      "source": [
        "#1: value_counts()\n",
        "df.Weather.value_counts()"
      ],
      "metadata": {
        "id": "uw6UQ7g5rR-p"
      },
      "execution_count": null,
      "outputs": []
    },
    {
      "cell_type": "code",
      "source": [
        "#2. Filtering\n",
        "\n",
        "df[df.Weather== 'Clear']"
      ],
      "metadata": {
        "id": "vidfc2sgrb6e"
      },
      "execution_count": null,
      "outputs": []
    },
    {
      "cell_type": "code",
      "source": [
        "#3. groupby()\n",
        "\n",
        "#df.head()\n",
        "df.groupby('Weather').get_group('Clear')"
      ],
      "metadata": {
        "id": "EfBz93_brgnp"
      },
      "execution_count": null,
      "outputs": []
    },
    {
      "cell_type": "markdown",
      "source": [
        "**Q.3 Find the number of time when the 'Weather is exactly 4km/h'.**"
      ],
      "metadata": {
        "id": "q9CAev5hrmom"
      }
    },
    {
      "cell_type": "code",
      "source": [
        "df[df['Wind Speed_km/h']==4]"
      ],
      "metadata": {
        "id": "ldR8lVitrpEu"
      },
      "execution_count": null,
      "outputs": []
    },
    {
      "cell_type": "code",
      "source": [
        "df[df['Wind Speed_km/h']==4].count()"
      ],
      "metadata": {
        "id": "Kf3Zv1EXrv8i"
      },
      "execution_count": null,
      "outputs": []
    },
    {
      "cell_type": "markdown",
      "source": [
        "474 times the Weather is exactly 4km/h."
      ],
      "metadata": {
        "id": "nA0dwe96r54c"
      }
    },
    {
      "cell_type": "markdown",
      "source": [
        "**Q.4 Find out all the null values in the data.**"
      ],
      "metadata": {
        "id": "Ql6dJVZAr-zA"
      }
    },
    {
      "cell_type": "code",
      "source": [
        "df.isnull().sum()"
      ],
      "metadata": {
        "id": "jjVCNtZgsGYE"
      },
      "execution_count": null,
      "outputs": []
    },
    {
      "cell_type": "code",
      "source": [
        "df.notnull().sum()"
      ],
      "metadata": {
        "id": "4iC3wje8sNeB"
      },
      "execution_count": null,
      "outputs": []
    },
    {
      "cell_type": "markdown",
      "source": [
        "NO null values are present in this dataset.\n"
      ],
      "metadata": {
        "id": "iMddL2MusVEQ"
      }
    },
    {
      "cell_type": "markdown",
      "source": [
        "**Q.5 Rename the column name 'Weather ' of the dataframe to 'Weather condition'.**"
      ],
      "metadata": {
        "id": "KpnzYCjWsWM_"
      }
    },
    {
      "cell_type": "code",
      "source": [
        "df.head()"
      ],
      "metadata": {
        "id": "OdXNqzxzsmtq"
      },
      "execution_count": null,
      "outputs": []
    },
    {
      "cell_type": "code",
      "source": [
        "df.rename(columns={'Weather':'Weather Condition'}) # onlly for this comands"
      ],
      "metadata": {
        "id": "UJDjyM7Fszh7"
      },
      "execution_count": null,
      "outputs": []
    },
    {
      "cell_type": "code",
      "source": [
        "df.rename(columns={'Weather':'Weather Condition'},inplace=True) # change column name permantly"
      ],
      "metadata": {
        "id": "zKzZ6etZs20l"
      },
      "execution_count": null,
      "outputs": []
    },
    {
      "cell_type": "markdown",
      "source": [
        "**Q.6 What is the mean 'visibility'?.**"
      ],
      "metadata": {
        "id": "i8JY3xqTs_GK"
      }
    },
    {
      "cell_type": "code",
      "source": [
        "df.head(2)"
      ],
      "metadata": {
        "id": "qze-3KBetBgj"
      },
      "execution_count": null,
      "outputs": []
    },
    {
      "cell_type": "code",
      "source": [
        "df.Visibility_km.mean()"
      ],
      "metadata": {
        "id": "KiN2opIntGh4"
      },
      "execution_count": null,
      "outputs": []
    },
    {
      "cell_type": "markdown",
      "source": [
        "**Q.7 What is the standard deviation of 'Pressure ' in this data?**"
      ],
      "metadata": {
        "id": "vVKhzYdwtLX3"
      }
    },
    {
      "cell_type": "code",
      "source": [
        "#df.head()\n",
        "df.Press_kPa.std() # nospace so using '.'"
      ],
      "metadata": {
        "id": "CLEz2osUtNgr"
      },
      "execution_count": null,
      "outputs": []
    },
    {
      "cell_type": "markdown",
      "source": [
        "The standard deviation of 'Pressure ' in this data is 0.8440047459486483."
      ],
      "metadata": {
        "id": "Mmwr0ndMtX_q"
      }
    },
    {
      "cell_type": "markdown",
      "source": [
        "**Q.8 What is the variance of 'Relative Humidity ' in this data?**"
      ],
      "metadata": {
        "id": "X_RyEJy6tY23"
      }
    },
    {
      "cell_type": "code",
      "source": [
        "df['Rel Hum_%'].var() #space between name so using []"
      ],
      "metadata": {
        "id": "fDThnLuSteOC"
      },
      "execution_count": null,
      "outputs": []
    },
    {
      "cell_type": "markdown",
      "source": [
        "**Q.9 Find all instances when 'Snow' was recorded.**"
      ],
      "metadata": {
        "id": "hq3VcosltlxN"
      }
    },
    {
      "cell_type": "code",
      "source": [
        "#1:value_counts()\n",
        "#df.head()\n",
        "df['Weather Condition'].value_counts()"
      ],
      "metadata": {
        "id": "HmPtcCDvtoTl"
      },
      "execution_count": null,
      "outputs": []
    },
    {
      "cell_type": "code",
      "source": [
        "#2: Filtering\n",
        "df[df['Weather Condition']=='Snow']"
      ],
      "metadata": {
        "id": "mECF9vQ_ty75"
      },
      "execution_count": null,
      "outputs": []
    },
    {
      "cell_type": "code",
      "source": [
        "#3: str.contains\n",
        "df[df['Weather Condition'].str.contains('Snow')]"
      ],
      "metadata": {
        "id": "LQQhc1yYt3pr"
      },
      "execution_count": null,
      "outputs": []
    },
    {
      "cell_type": "code",
      "source": [
        "df[df['Weather Condition'].str.contains('Snow')].head(50)"
      ],
      "metadata": {
        "id": "StmzMnx_t9ca"
      },
      "execution_count": null,
      "outputs": []
    },
    {
      "cell_type": "code",
      "source": [
        "df[df['Weather Condition'].str.contains('Snow')].tail(50)"
      ],
      "metadata": {
        "id": "5nPz6xT-uGEi"
      },
      "execution_count": null,
      "outputs": []
    },
    {
      "cell_type": "markdown",
      "source": [
        "**Q.10 Find all instances when 'Wind speed is above 24' and 'Visibility'is 25 .**"
      ],
      "metadata": {
        "id": "jDFe9xePuT5D"
      }
    },
    {
      "cell_type": "code",
      "source": [
        "df[(df['Wind Speed_km/h'] > 24) & (df['Visibility_km']==25)]"
      ],
      "metadata": {
        "id": "gYpy--FZuXFL"
      },
      "execution_count": null,
      "outputs": []
    },
    {
      "cell_type": "markdown",
      "source": [
        "**Q.11 What is the mean value of each column against each 'Weather condition'?**"
      ],
      "metadata": {
        "id": "29-WPqroudPZ"
      }
    },
    {
      "cell_type": "code",
      "source": [
        "df.groupby('Weather Condition').mean()"
      ],
      "metadata": {
        "id": "dJyAUb8SujIU"
      },
      "execution_count": null,
      "outputs": []
    },
    {
      "cell_type": "markdown",
      "source": [
        "**Q.12 What is minimum and maximum value of each column against each 'Weather condition**"
      ],
      "metadata": {
        "id": "7z8mQFWHurHS"
      }
    },
    {
      "cell_type": "code",
      "source": [
        "df.groupby('Weather Condition').min()"
      ],
      "metadata": {
        "id": "ejveU9mxustz"
      },
      "execution_count": null,
      "outputs": []
    },
    {
      "cell_type": "code",
      "source": [
        "df.groupby('Weather Condition').max()"
      ],
      "metadata": {
        "id": "cTRxiFkGu07f"
      },
      "execution_count": null,
      "outputs": []
    },
    {
      "cell_type": "markdown",
      "source": [
        "**Q.13 Show All the records where weather condition is Fog.**"
      ],
      "metadata": {
        "id": "CUtwRWhWu5oz"
      }
    },
    {
      "cell_type": "code",
      "source": [
        "df[df[\"Weather Condition\"]=='Fog']"
      ],
      "metadata": {
        "id": "UFS_SIgmu8pa"
      },
      "execution_count": null,
      "outputs": []
    },
    {
      "cell_type": "markdown",
      "source": [
        "**Q.14 Find all instances when 'Weather is clear' or 'Visibility is above 40'.**"
      ],
      "metadata": {
        "id": "2EqGX0zpvDPs"
      }
    },
    {
      "cell_type": "code",
      "source": [
        "df[(df['Weather Condition']=='Clear') | (df['Visibility_km']>40)].head(50)"
      ],
      "metadata": {
        "id": "vpnTNEQqvE3E"
      },
      "execution_count": null,
      "outputs": []
    },
    {
      "cell_type": "code",
      "source": [
        "df[(df['Weather Condition']=='Clear') | (df['Visibility_km']>40)].tail(50)"
      ],
      "metadata": {
        "id": "tzP4yPG4vPVj"
      },
      "execution_count": null,
      "outputs": []
    },
    {
      "cell_type": "markdown",
      "source": [
        "**Q.15 Find all instances when:**\n",
        "a) 'Weather is clear' and 'Relative humidity is greater than 50' or\n",
        "\n",
        "b) 'Visibility' is above 40"
      ],
      "metadata": {
        "id": "ecF2VGrtvT5I"
      }
    },
    {
      "cell_type": "code",
      "source": [
        "df[(df['Weather Condition']=='Clear' ) & (df['Rel Hum_%'] >50) | (df['Visibility_km']> 40)]"
      ],
      "metadata": {
        "id": "pJAzHRtwvXTl"
      },
      "execution_count": null,
      "outputs": []
    }
  ]
}